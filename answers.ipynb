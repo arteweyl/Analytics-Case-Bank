{
 "cells": [
  {
   "cell_type": "markdown",
   "metadata": {},
   "source": [
    "## <span style=\"color: purple\">Create a SQL query to help Jane retrieving the monthly balance of all accounts</span>\n",
    "our colleague Jane Hopper, the analyst in charge of analysing customer behaviour, who directly consumes data from the Data Warehouse Environment, needs to get all the account's monthly balances between Jan/2020 and Dec/2020. She wasn't able to do it alone, and asked for your help. Add to your resolution the SQL query used to retrieve the data needed "
   ]
  },
  {
   "cell_type": "markdown",
   "metadata": {},
   "source": [
    "I decided to use duckdb as the dialect. Duckdb is a powerful in-process, vectorized database, with great integration with Python. To promote best practices and easy comprehension, I created a module called utils.__main__ in the utils folder. It contains one function to parse the CSV seed files to create our tables. And the another to scrape from SQL files. I will put them below for a better description:\n",
    "\n",
    "```python\n",
    "import os\n",
    "import duckdb\n",
    "\n",
    "\n",
    "class ReadSQLFileError(Exception):\n",
    "    code='001'\n",
    "\n",
    "\n",
    "class ReadSeedFilesError(Exception):\n",
    "    code='002'\n",
    "\n",
    "\n",
    "def read_sql_file(filepath):\n",
    "    try:\n",
    "        with open(filepath, \"r\") as sql:\n",
    "            sql_file = sql.read()\n",
    "        return sql_file\n",
    "    except ReadSQLFileError as err:\n",
    "        raise err\n",
    "\n",
    "\n",
    "def create_tables_from_csv_seeds(connection, seeds_path):\n",
    "    try:\n",
    "        for file_name in os.listdir(seeds_path):\n",
    "            if file_name.endswith(\".csv\"):\n",
    "                table_name = os.path.splitext(file_name)[0]\n",
    "                df = connection.read_csv(os.path.join(seeds_path, file_name))\n",
    "                connection.register(table_name, df)\n",
    "\n",
    "    except ReadSeedFilesError as err:\n",
    "        raise err\n",
    "```\n"
   ]
  },
  {
   "cell_type": "code",
   "execution_count": 1,
   "metadata": {},
   "outputs": [],
   "source": [
    "import duckdb\n",
    "import utils.__main__ as utils "
   ]
  },
  {
   "cell_type": "markdown",
   "metadata": {},
   "source": [
    "I will create a in memory database, i could create a persistent one just changing the database pparameter bellow to a local path."
   ]
  },
  {
   "cell_type": "code",
   "execution_count": 2,
   "metadata": {},
   "outputs": [],
   "source": [
    "conn = duckdb.connect(database=\":memory:\",read_only=False)"
   ]
  },
  {
   "cell_type": "markdown",
   "metadata": {},
   "source": [
    "Here we create the tables automatically passing the csv seed files."
   ]
  },
  {
   "cell_type": "code",
   "execution_count": 3,
   "metadata": {},
   "outputs": [],
   "source": [
    "utils.create_tables_from_csv_seeds(conn,'seeds')"
   ]
  },
  {
   "cell_type": "markdown",
   "metadata": {},
   "source": [
    "So we have two approaches to solve this for jane using duckdb combined with python. we can do in a procedural way,One is creating a big query sentence, that is not so easy to follow. Other way, is creating variables and storing these SQL snippets. I will do in that way because in the final it generate a simplier visualization:\n",
    "\n",
    "```sql\n",
    "SELECT Month, customers.account_id as Account, totalAmountIn, totalAmountOut, (totalAmountIn - totalAmountOut) as Balance\n",
    "FROM\n",
    "\t({query_in_out_months}) AS totalInAndOut\n",
    "\n",
    "INNER JOIN\n",
    "\t({query_customers}) as customers\n",
    "ON\n",
    "\ttotalInAndOut.account_id = customers.account_id\n",
    "    order by Month ASC;\n",
    "\n",
    "```"
   ]
  },
  {
   "cell_type": "code",
   "execution_count": 4,
   "metadata": {},
   "outputs": [],
   "source": [
    "query_in_out = utils.read_sql_file('SQL/query_amounts_in_out.sql')\n",
    "query_time = utils.read_sql_file('SQL/query_time.sql')\n",
    "query_customers = utils.read_sql_file('SQL/query_customers.sql')\n",
    "query_in_out_months = utils.read_sql_file('SQL/query_in_out_month.sql').format(query_in_out,query_time)\n",
    "main_query = utils.read_sql_file('SQL/query.sql').format(query_in_out_months,query_customers)"
   ]
  },
  {
   "cell_type": "markdown",
   "metadata": {},
   "source": [
    "query_in_out stores the sql from the in_out operations. i used in this part ´case´  sentences to pick values from the in_or_out columns that stores the operations of income and outcome of money in the account. Other thing to note is that i used here UNION ALL, that retrives all info the combined concatenated query.\n",
    "\n",
    "here is the sql snippet for query_in_out:\n",
    "\n",
    "```sql\n",
    "SELECT\t\n",
    "    account_id,\n",
    "    pix_completed_at as time_id,\n",
    "    (CASE WHEN in_or_out = 'pix_in' THEN pix_amount END) AS totalAmountIn,\n",
    "    (CASE WHEN in_or_out = 'pix_out' THEN pix_amount END) AS totalAmountOut\n",
    "FROM \n",
    "    pix_movements\n",
    "WHERE\n",
    "    pix_completed_at != 'None'\n",
    "    \n",
    "UNION ALL\n",
    "\n",
    "SELECT \n",
    "    account_id,\n",
    "    transaction_completed_at AS time_id, \n",
    "    amount AS totalAmountIn, \n",
    "    NULL AS totalAmountOut\n",
    "FROM \n",
    "\ttransfer_ins\n",
    "WHERE \n",
    "\ttransaction_completed_at != 'None'\n",
    "    \n",
    "UNION ALL\n",
    "\tSELECT \n",
    "        account_id,\n",
    "        transaction_completed_at AS time_id, \n",
    "        NULL AS totalAmountIn, \n",
    "        amount as totalAmountOut\n",
    "\tFROM\n",
    "        transfer_outs\n",
    "\tWHERE\n",
    "         transaction_completed_at != 'None'\n",
    "```"
   ]
  },
  {
   "cell_type": "markdown",
   "metadata": {},
   "source": [
    "query_time is the variable that stores the snippet of querying the time sql file. \n",
    "\n",
    "\n",
    "\n",
    "```sql\n",
    "SELECT \n",
    "\taction_month,\n",
    "\ttime_id\n",
    "FROM \n",
    "\t(d_time INNER JOIN d_year ON d_time.year_id = d_year.year_id)\n",
    "INNER JOIN \n",
    "\td_month ON d_time.month_id = d_month.month_id\n",
    "WHERE action_year=2020\n",
    "```"
   ]
  },
  {
   "cell_type": "markdown",
   "metadata": {},
   "source": [
    "query_customers variable stores the snippet from query_customers.sql, that retrieves for the customers accounts that we will use in our combined view.\n",
    "\n",
    "```sql\n",
    "SELECT\n",
    "    accounts.account_id \n",
    "FROM \n",
    "    accounts \n",
    "LEFT JOIN \n",
    "    customers ON accounts.customer_id  = customers.customer_id\n",
    "```"
   ]
  },
  {
   "cell_type": "markdown",
   "metadata": {},
   "source": [
    "i have the basic query, now i will pass one that are a join from  amounts_in_out:"
   ]
  },
  {
   "cell_type": "markdown",
   "metadata": {},
   "source": [
    "So, finally, Jane has a query that is far better to read. More clean than  the extensive one."
   ]
  },
  {
   "cell_type": "code",
   "execution_count": 5,
   "metadata": {},
   "outputs": [
    {
     "data": {
      "text/plain": [
       "┌───────┬─────────────────────┬────────────────────┬───────────────────┬────────────────────┐\n",
       "│ Month │       Account       │   totalAmountIn    │  totalAmountOut   │      Balance       │\n",
       "│ int64 │        int64        │       double       │      double       │       double       │\n",
       "├───────┼─────────────────────┼────────────────────┼───────────────────┼────────────────────┤\n",
       "│     1 │ 2922610483805172224 │            1776.69 │               0.0 │            1776.69 │\n",
       "│     1 │ 2812754350480354304 │            1337.23 │               0.0 │            1337.23 │\n",
       "│     1 │ 2680031936548642304 │                0.0 │           1933.31 │           -1933.31 │\n",
       "│     1 │ 2249498282617143808 │                0.0 │            371.82 │            -371.82 │\n",
       "│     1 │ 1153472375140304896 │            1080.95 │               0.0 │            1080.95 │\n",
       "│     1 │ 1641327779543874048 │              86.55 │               0.0 │              86.55 │\n",
       "│     1 │ 1327634959155804928 │            1445.29 │            244.16 │ 1201.1299999999999 │\n",
       "│     1 │ 1740892857749742592 │ 2161.2599999999998 │               0.0 │ 2161.2599999999998 │\n",
       "│     1 │ 1168049246555006464 │             922.74 │               0.0 │             922.74 │\n",
       "│     1 │ 1309508046858149632 │ 1989.1599999999999 │           1645.69 │  343.4699999999998 │\n",
       "│     · │          ·          │          ·         │              ·    │               ·    │\n",
       "│     · │          ·          │          ·         │              ·    │               ·    │\n",
       "│     · │          ·          │          ·         │              ·    │               ·    │\n",
       "│     3 │ 1120705857342715008 │ 16150.599999999999 │ 6919.849999999999 │            9230.75 │\n",
       "│     3 │  431073367181746176 │ 19605.920000000002 │           4875.16 │ 14730.760000000002 │\n",
       "│     3 │ 3055547885831855616 │           12470.61 │ 8264.970000000001 │  4205.639999999999 │\n",
       "│     3 │ 3382387032447067648 │ 11551.210000000001 │ 6238.790000000001 │            5312.42 │\n",
       "│     3 │  447464287937109760 │ 13282.269999999999 │ 4859.969999999999 │             8422.3 │\n",
       "│     3 │  545039238693279552 │            9096.52 │           2006.27 │            7090.25 │\n",
       "│     3 │ 2375549975134436352 │             8822.4 │           8521.45 │  300.9499999999989 │\n",
       "│     3 │   17905154893500652 │            8877.41 │           3949.89 │            4927.52 │\n",
       "│     3 │ 3103719903206701056 │           10433.41 │           2191.63 │  8241.779999999999 │\n",
       "│     3 │ 1590197742707198976 │           16465.01 │           8384.49 │  8080.519999999999 │\n",
       "├───────┴─────────────────────┴────────────────────┴───────────────────┴────────────────────┤\n",
       "│ ? rows (>9999 rows, 20 shown)                                                   5 columns │\n",
       "└───────────────────────────────────────────────────────────────────────────────────────────┘"
      ]
     },
     "execution_count": 5,
     "metadata": {},
     "output_type": "execute_result"
    }
   ],
   "source": [
    "df = conn.sql(main_query)\n",
    "df"
   ]
  },
  {
   "cell_type": "markdown",
   "metadata": {},
   "source": [
    "### Saving the files\n",
    "\n",
    "With duckdb to save the file is very simple too just do a ´COPY´ ´TO´ query passing the the name of the file. "
   ]
  },
  {
   "cell_type": "code",
   "execution_count": 6,
   "metadata": {},
   "outputs": [],
   "source": [
    "conn.query(f\"COPY ({main_query}) TO 'results.csv'\")"
   ]
  }
 ],
 "metadata": {
  "kernelspec": {
   "display_name": "analytics-case-venv",
   "language": "python",
   "name": "python3"
  },
  "language_info": {
   "codemirror_mode": {
    "name": "ipython",
    "version": 3
   },
   "file_extension": ".py",
   "mimetype": "text/x-python",
   "name": "python",
   "nbconvert_exporter": "python",
   "pygments_lexer": "ipython3",
   "version": "3.10.12"
  }
 },
 "nbformat": 4,
 "nbformat_minor": 2
}
